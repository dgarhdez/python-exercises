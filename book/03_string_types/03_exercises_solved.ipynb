{
 "cells": [
  {
   "cell_type": "markdown",
   "metadata": {},
   "source": [
    "# Strings, properties, methods and formatting"
   ]
  },
  {
   "cell_type": "markdown",
   "metadata": {},
   "source": [
    "### Exercise 3.1\n",
    "\n",
    "Given this text:\n",
    "\n",
    "```python\n",
    "text = \"The quick brown fox jumps over the lazy dog\"\n",
    "```\n",
    "\n",
    "Return the number of characters included in it."
   ]
  },
  {
   "cell_type": "code",
   "execution_count": 1,
   "metadata": {},
   "outputs": [
    {
     "name": "stdout",
     "output_type": "stream",
     "text": [
      "43\n"
     ]
    }
   ],
   "source": [
    "text = \"The quick brown fox jumps over the lazy dog\"\n",
    "\n",
    "print(len(text))"
   ]
  },
  {
   "cell_type": "markdown",
   "metadata": {},
   "source": [
    "It contains 43 characters, including spaces."
   ]
  },
  {
   "cell_type": "markdown",
   "metadata": {},
   "source": [
    "### Exercise 3.2\n",
    "\n",
    "For the same text as in the previous exercise, how many words are there in the text?"
   ]
  },
  {
   "cell_type": "code",
   "execution_count": 2,
   "metadata": {},
   "outputs": [
    {
     "name": "stdout",
     "output_type": "stream",
     "text": [
      "9\n"
     ]
    }
   ],
   "source": [
    "words_in_text = text.split()\n",
    "\n",
    "print(len(words_in_text))"
   ]
  },
  {
   "cell_type": "markdown",
   "metadata": {},
   "source": [
    "We can use `len` on the list of strings result of `split` to get the number of words in a string. There are 9 words separated by spaces."
   ]
  },
  {
   "cell_type": "markdown",
   "metadata": {},
   "source": [
    "### Exercise 3.3\n",
    "\n",
    "Create variable `name` that contains a string including your first name and last name(s) separated by a space. \n",
    "\n",
    "Then convert your `name` into lowercase and uppercase letters.\n",
    "\n",
    "Save each one of them into different variables called `name_lower` and `name_upper`.\n",
    "\n",
    "Then print all the three variables."
   ]
  },
  {
   "cell_type": "code",
   "execution_count": 3,
   "metadata": {},
   "outputs": [
    {
     "name": "stdout",
     "output_type": "stream",
     "text": [
      "Dani Daniel\n",
      "dani daniel\n",
      "DANI DANIEL\n"
     ]
    }
   ],
   "source": [
    "name = \"Dani Daniel\"\n",
    "\n",
    "name_lower = name.lower()\n",
    "\n",
    "name_upper = name.upper()\n",
    "\n",
    "print(name)\n",
    "print(name_lower)\n",
    "print(name_upper)"
   ]
  }
 ],
 "metadata": {
  "kernelspec": {
   "display_name": "pyex",
   "language": "python",
   "name": "python3"
  },
  "language_info": {
   "codemirror_mode": {
    "name": "ipython",
    "version": 3
   },
   "file_extension": ".py",
   "mimetype": "text/x-python",
   "name": "python",
   "nbconvert_exporter": "python",
   "pygments_lexer": "ipython3",
   "version": "3.10.12"
  },
  "orig_nbformat": 4
 },
 "nbformat": 4,
 "nbformat_minor": 2
}
