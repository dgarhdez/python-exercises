{
 "cells": [
  {
   "cell_type": "markdown",
   "metadata": {},
   "source": [
    "# Strings, Lists, Tuples: properties, methods and formatting"
   ]
  },
  {
   "cell_type": "markdown",
   "metadata": {},
   "source": [
    "### Exercise 3.1\n",
    "\n",
    "Given this text:\n",
    "\n",
    "```python\n",
    "text = \"The quick brown fox jumps over the lazy dog\"\n",
    "```\n",
    "\n",
    "Return the number of characters included in it."
   ]
  },
  {
   "cell_type": "code",
   "execution_count": 1,
   "metadata": {},
   "outputs": [
    {
     "name": "stdout",
     "output_type": "stream",
     "text": [
      "43\n"
     ]
    }
   ],
   "source": [
    "text = \"The quick brown fox jumps over the lazy dog\"\n",
    "\n",
    "print(len(text))"
   ]
  },
  {
   "cell_type": "markdown",
   "metadata": {},
   "source": [
    "It contains 43 characters, including spaces."
   ]
  },
  {
   "cell_type": "markdown",
   "metadata": {},
   "source": [
    "### Exercise 3.2\n",
    "\n",
    "For the same text as in the previous exercise, how many words are there in the text?"
   ]
  },
  {
   "cell_type": "code",
   "execution_count": 2,
   "metadata": {},
   "outputs": [
    {
     "name": "stdout",
     "output_type": "stream",
     "text": [
      "9\n"
     ]
    }
   ],
   "source": [
    "words_in_text = text.split()\n",
    "\n",
    "print(len(words_in_text))"
   ]
  },
  {
   "cell_type": "markdown",
   "metadata": {},
   "source": [
    "We can use `len` on the list of strings result of `split` to get the number of words in a string. There are 9 words separated by spaces."
   ]
  },
  {
   "cell_type": "markdown",
   "metadata": {},
   "source": [
    "### Exercise 3.3\n",
    "\n",
    "Create a variable called `name` that contains a string including your first name and last name(s) separated by a space. \n",
    "\n",
    "Then convert your `name` into lowercase and uppercase letters.\n",
    "\n",
    "Save each one of them into different variables called `name_lower` and `name_upper`.\n",
    "\n",
    "Then print all the three variables."
   ]
  },
  {
   "cell_type": "code",
   "execution_count": 3,
   "metadata": {},
   "outputs": [
    {
     "name": "stdout",
     "output_type": "stream",
     "text": [
      "Dani Daniel\n",
      "dani daniel\n",
      "DANI DANIEL\n"
     ]
    }
   ],
   "source": [
    "name = \"Dani Daniel\"\n",
    "\n",
    "name_lower = name.lower()\n",
    "\n",
    "name_upper = name.upper()\n",
    "\n",
    "print(name)\n",
    "print(name_lower)\n",
    "print(name_upper)"
   ]
  },
  {
   "cell_type": "markdown",
   "metadata": {},
   "source": [
    "### Exercise 3.4\n",
    "\n",
    "Using the following text:\n",
    "\n",
    "```python\n",
    "text = \"The quick brown fox jumps over the lazy dog\"\n",
    "```\n",
    "\n",
    "Extract the following slices:\n",
    "* First ten characters\n",
    "* First ten characters not taking into account whitespaces (hint: use `replace`)\n",
    "* Last ten characters\n",
    "* Every other character, starting from the first one\n",
    "* Every third character, starting from the last one"
   ]
  },
  {
   "cell_type": "code",
   "execution_count": 2,
   "metadata": {},
   "outputs": [],
   "source": [
    "text = \"The quick brown fox jumps over the lazy dog\""
   ]
  },
  {
   "cell_type": "code",
   "execution_count": 3,
   "metadata": {},
   "outputs": [
    {
     "data": {
      "text/plain": [
       "'The quick '"
      ]
     },
     "execution_count": 3,
     "metadata": {},
     "output_type": "execute_result"
    }
   ],
   "source": [
    "# first ten characters\n",
    "text[:10]"
   ]
  },
  {
   "cell_type": "code",
   "execution_count": 4,
   "metadata": {},
   "outputs": [
    {
     "data": {
      "text/plain": [
       "'Thequickbr'"
      ]
     },
     "execution_count": 4,
     "metadata": {},
     "output_type": "execute_result"
    }
   ],
   "source": [
    "# first then characters without whitespaces\n",
    "text.replace(' ', '')[:10]"
   ]
  },
  {
   "cell_type": "code",
   "execution_count": 5,
   "metadata": {},
   "outputs": [
    {
     "data": {
      "text/plain": [
       "'e lazy dog'"
      ]
     },
     "execution_count": 5,
     "metadata": {},
     "output_type": "execute_result"
    }
   ],
   "source": [
    "# last ten characters\n",
    "text[-10:]"
   ]
  },
  {
   "cell_type": "code",
   "execution_count": 6,
   "metadata": {},
   "outputs": [
    {
     "data": {
      "text/plain": [
       "'Teqikbonfxjmsoe h aydg'"
      ]
     },
     "execution_count": 6,
     "metadata": {},
     "output_type": "execute_result"
    }
   ],
   "source": [
    "# every other character, starting from the first one\n",
    "text[::2]"
   ]
  },
  {
   "cell_type": "code",
   "execution_count": 7,
   "metadata": {},
   "outputs": [
    {
     "data": {
      "text/plain": [
       "'g ae vsux o i T'"
      ]
     },
     "execution_count": 7,
     "metadata": {},
     "output_type": "execute_result"
    }
   ],
   "source": [
    "# every third character, starting from the last one\n",
    "text[::-3]"
   ]
  },
  {
   "cell_type": "markdown",
   "metadata": {},
   "source": [
    "### Exercise 3.5\n",
    "\n",
    "Create a list named `fruits` with the following words in it: `banana`, `apple`, `orange`, `lemon`, `cherry`, `strawberry`, `grapefruit`.\n",
    "\n",
    "Then sort the list alphabetically and print it."
   ]
  },
  {
   "cell_type": "code",
   "execution_count": 11,
   "metadata": {},
   "outputs": [
    {
     "name": "stdout",
     "output_type": "stream",
     "text": [
      "['strawberry', 'orange', 'lemon', 'grapefruit', 'cherry', 'banana', 'apple']\n"
     ]
    }
   ],
   "source": [
    "fruits = ['banana', 'apple', 'orange', 'lemon', 'cherry', 'strawberry', 'grapefruit']\n",
    "\n",
    "fruits.sort()\n",
    "\n",
    "print(fruits)"
   ]
  },
  {
   "cell_type": "markdown",
   "metadata": {},
   "source": [
    "### Exercise 3.6\n",
    "\n",
    "Using the fruits list, create a string with the following format:\n",
    "\n",
    "```\n",
    "My favorite fruits are: banana, apple, orange, lemon, cherry, strawberry, grapefruit.\n",
    "```\n",
    "\n",
    "There shouldn't be whitespaces at the beginning or at the end of the string."
   ]
  },
  {
   "cell_type": "code",
   "execution_count": 16,
   "metadata": {},
   "outputs": [
    {
     "name": "stdout",
     "output_type": "stream",
     "text": [
      "My favorite fruits are: strawberry, orange, lemon, grapefruit, cherry, banana, apple.\n"
     ]
    }
   ],
   "source": [
    "favorite = f'My favorite fruits are: {\", \".join(fruits).strip()}.'\n",
    "\n",
    "print(favorite)"
   ]
  },
  {
   "cell_type": "markdown",
   "metadata": {},
   "source": [
    "### Exercise 3.7\n",
    "\n",
    "Create a list of lists called `vegan` where the first one is `fruits` list, and the second list is made out of with the following words: `tomato`, `potato`, `carrot`, `onion`, `garlic`, `lettuce`, `cucumber`."
   ]
  },
  {
   "cell_type": "code",
   "execution_count": 17,
   "metadata": {},
   "outputs": [
    {
     "data": {
      "text/plain": [
       "[['strawberry', 'orange', 'lemon', 'grapefruit', 'cherry', 'banana', 'apple'],\n",
       " ['tomato', 'potato', 'carrot', 'onion', 'garlic', 'lettuce', 'cucumber']]"
      ]
     },
     "execution_count": 17,
     "metadata": {},
     "output_type": "execute_result"
    }
   ],
   "source": [
    "vegetables = ['tomato', 'potato', 'carrot', 'onion', 'garlic', 'lettuce', 'cucumber']\n",
    "\n",
    "vegan = [fruits, vegetables]\n",
    "\n",
    "vegan"
   ]
  },
  {
   "cell_type": "markdown",
   "metadata": {},
   "source": [
    "### Exercise 3.8\n",
    "\n",
    "Extract the following from `vegan`:\n",
    "\n",
    "* The 1st element of the 2nd list\n",
    "* The last letter of the 4th element of the 1st list\n",
    "* The 2nd letter of the 3rd element of the 2nd list\n",
    "* The 5th word of the 1st list but reversed"
   ]
  },
  {
   "cell_type": "code",
   "execution_count": 18,
   "metadata": {},
   "outputs": [
    {
     "data": {
      "text/plain": [
       "'tomato'"
      ]
     },
     "execution_count": 18,
     "metadata": {},
     "output_type": "execute_result"
    }
   ],
   "source": [
    "# 1st element of the second list\n",
    "vegan[1][0]"
   ]
  },
  {
   "cell_type": "code",
   "execution_count": 19,
   "metadata": {},
   "outputs": [
    {
     "data": {
      "text/plain": [
       "'t'"
      ]
     },
     "execution_count": 19,
     "metadata": {},
     "output_type": "execute_result"
    }
   ],
   "source": [
    "# last letter of the 4th element of the 1st list\n",
    "vegan[0][3][-1]"
   ]
  },
  {
   "cell_type": "code",
   "execution_count": 20,
   "metadata": {},
   "outputs": [
    {
     "data": {
      "text/plain": [
       "'a'"
      ]
     },
     "execution_count": 20,
     "metadata": {},
     "output_type": "execute_result"
    }
   ],
   "source": [
    "# 2nd letter of the 3rd element of the 2nd list\n",
    "vegan[1][2][1]"
   ]
  },
  {
   "cell_type": "code",
   "execution_count": 21,
   "metadata": {},
   "outputs": [
    {
     "data": {
      "text/plain": [
       "'yrrehc'"
      ]
     },
     "execution_count": 21,
     "metadata": {},
     "output_type": "execute_result"
    }
   ],
   "source": [
    "# 5th word of the 1st list reversed\n",
    "vegan[0][4][::-1]"
   ]
  },
  {
   "cell_type": "markdown",
   "metadata": {},
   "source": [
    "### Exercise 3.9\n",
    "\n",
    "Create a new list containing tuples where each tuple contains one fruit and one vegetable from the `vegan` list."
   ]
  },
  {
   "cell_type": "code",
   "execution_count": 22,
   "metadata": {},
   "outputs": [
    {
     "data": {
      "text/plain": [
       "[('strawberry', 'tomato'),\n",
       " ('orange', 'potato'),\n",
       " ('lemon', 'carrot'),\n",
       " ('grapefruit', 'onion'),\n",
       " ('cherry', 'garlic'),\n",
       " ('banana', 'lettuce'),\n",
       " ('apple', 'cucumber')]"
      ]
     },
     "execution_count": 22,
     "metadata": {},
     "output_type": "execute_result"
    }
   ],
   "source": [
    "list(zip(fruits, vegetables))"
   ]
  },
  {
   "cell_type": "markdown",
   "metadata": {},
   "source": [
    "### Exercise 3.10\n",
    "\n",
    "Take the `vegetables` list, sort it alphabetically, and then create a new list with tuples where each tuple contains the position of the vegetable in the sorted list and the vegetable itself.\n",
    "\n",
    "Remember that the `sort()` method will sort the list in memory and returns `None`. So first you need to sort the list, and then use it in your exercise."
   ]
  },
  {
   "cell_type": "code",
   "execution_count": 24,
   "metadata": {},
   "outputs": [
    {
     "data": {
      "text/plain": [
       "[(0, 'carrot'),\n",
       " (1, 'cucumber'),\n",
       " (2, 'garlic'),\n",
       " (3, 'lettuce'),\n",
       " (4, 'onion'),\n",
       " (5, 'potato'),\n",
       " (6, 'tomato')]"
      ]
     },
     "execution_count": 24,
     "metadata": {},
     "output_type": "execute_result"
    }
   ],
   "source": [
    "vegetables.sort()\n",
    "\n",
    "list(enumerate(vegetables))"
   ]
  },
  {
   "cell_type": "markdown",
   "metadata": {},
   "source": [
    "### Exercise 3.11\n",
    "\n",
    "Add the following fruits and vegetables to the `fruits` and `vegetables` lists, respectively: `pear`, `peach`, `broccoli`, `spinach`.\n",
    "\n",
    "Then create a new list called `fruits_and_vegetables` that contains all the `fruits` and `vegetables` lists.\n",
    "\n",
    "You can use the following approaches:\n",
    "* `+` operator to concatenate lists\n",
    "* `append()` method to add elements to a list one by one\n",
    "* `extend()` method to add all the elements of a list to another list"
   ]
  },
  {
   "cell_type": "code",
   "execution_count": 30,
   "metadata": {},
   "outputs": [
    {
     "data": {
      "text/plain": [
       "['banana',\n",
       " 'apple',\n",
       " 'orange',\n",
       " 'lemon',\n",
       " 'cherry',\n",
       " 'strawberry',\n",
       " 'grapefruit',\n",
       " 'peach',\n",
       " 'pear',\n",
       " 'tomato',\n",
       " 'potato',\n",
       " 'carrot',\n",
       " 'onion',\n",
       " 'garlic',\n",
       " 'lettuce',\n",
       " 'cucumber',\n",
       " 'broccoli',\n",
       " 'spinach']"
      ]
     },
     "execution_count": 30,
     "metadata": {},
     "output_type": "execute_result"
    }
   ],
   "source": [
    "fruits = ['banana', 'apple', 'orange', 'lemon', 'cherry', 'strawberry', 'grapefruit']\n",
    "vegetables = ['tomato', 'potato', 'carrot', 'onion', 'garlic', 'lettuce', 'cucumber']\n",
    "\n",
    "fruits = fruits + ['peach', 'pear']\n",
    "vegetables = vegetables + ['broccoli', 'spinach']\n",
    "\n",
    "fruits_and_vegetables = fruits + vegetables\n",
    "\n",
    "fruits_and_vegetables"
   ]
  },
  {
   "cell_type": "code",
   "execution_count": 29,
   "metadata": {},
   "outputs": [
    {
     "data": {
      "text/plain": [
       "['banana',\n",
       " 'apple',\n",
       " 'orange',\n",
       " 'lemon',\n",
       " 'cherry',\n",
       " 'strawberry',\n",
       " 'grapefruit',\n",
       " 'pear',\n",
       " 'peach',\n",
       " 'tomato',\n",
       " 'potato',\n",
       " 'carrot',\n",
       " 'onion',\n",
       " 'garlic',\n",
       " 'lettuce',\n",
       " 'cucumber',\n",
       " 'broccoli',\n",
       " 'spinach']"
      ]
     },
     "execution_count": 29,
     "metadata": {},
     "output_type": "execute_result"
    }
   ],
   "source": [
    "fruits = ['banana', 'apple', 'orange', 'lemon', 'cherry', 'strawberry', 'grapefruit']\n",
    "vegetables = ['tomato', 'potato', 'carrot', 'onion', 'garlic', 'lettuce', 'cucumber']\n",
    "\n",
    "# using append\n",
    "fruits.append('pear')\n",
    "fruits.append('peach')\n",
    "\n",
    "vegetables.append('broccoli')\n",
    "vegetables.append('spinach')\n",
    "\n",
    "fruits_and_vegetables = fruits + vegetables\n",
    "\n",
    "fruits_and_vegetables"
   ]
  },
  {
   "cell_type": "code",
   "execution_count": 31,
   "metadata": {},
   "outputs": [
    {
     "data": {
      "text/plain": [
       "['banana',\n",
       " 'apple',\n",
       " 'orange',\n",
       " 'lemon',\n",
       " 'cherry',\n",
       " 'strawberry',\n",
       " 'grapefruit',\n",
       " 'pear',\n",
       " 'peach',\n",
       " 'tomato',\n",
       " 'potato',\n",
       " 'carrot',\n",
       " 'onion',\n",
       " 'garlic',\n",
       " 'lettuce',\n",
       " 'cucumber',\n",
       " 'broccoli',\n",
       " 'spinach']"
      ]
     },
     "execution_count": 31,
     "metadata": {},
     "output_type": "execute_result"
    }
   ],
   "source": [
    "# using extend()\n",
    "\n",
    "fruits = ['banana', 'apple', 'orange', 'lemon', 'cherry', 'strawberry', 'grapefruit']\n",
    "vegetables = ['tomato', 'potato', 'carrot', 'onion', 'garlic', 'lettuce', 'cucumber']\n",
    "\n",
    "fruits.extend(['pear', 'peach'])\n",
    "vegetables.extend(['broccoli', 'spinach'])\n",
    "\n",
    "fruits_and_vegetables = fruits + vegetables\n",
    "\n",
    "fruits_and_vegetables"
   ]
  }
 ],
 "metadata": {
  "kernelspec": {
   "display_name": "pyex",
   "language": "python",
   "name": "python3"
  },
  "language_info": {
   "codemirror_mode": {
    "name": "ipython",
    "version": 3
   },
   "file_extension": ".py",
   "mimetype": "text/x-python",
   "name": "python",
   "nbconvert_exporter": "python",
   "pygments_lexer": "ipython3",
   "version": "3.10.12"
  },
  "orig_nbformat": 4
 },
 "nbformat": 4,
 "nbformat_minor": 2
}
