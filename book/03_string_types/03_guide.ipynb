{
 "cells": [
  {
   "cell_type": "markdown",
   "metadata": {},
   "source": [
    "# String Types, properties and methods"
   ]
  },
  {
   "cell_type": "markdown",
   "metadata": {},
   "source": [
    "## Table of Contents\n",
    "\n",
    "* [Strings](#strings)\n",
    "  * [Strings properties and methods](#strings-properties-and-methods)\n",
    "  * [String concatenation](#string-concatenation)\n",
    "  * [String repetition](#string-repetition)\n",
    "  * [String formatting](#string-formatting)\n",
    "  * [String slicing](#string-slicing)"
   ]
  },
  {
   "cell_type": "markdown",
   "metadata": {},
   "source": [
    "## Strings\n",
    "\n",
    "As we learned in Section 1, a string is a sequence of characters. We represent strings in Python with single, double or triple quotes. For example, the following are all valid strings in Python:\n",
    "\n",
    "```python\n",
    "'hello'\n",
    "\"hello\"\n",
    "'''hello'''\n",
    "```\n",
    "\n",
    "We use strings to represent text in Python, also punctuation signs, special characters, and numbers."
   ]
  },
  {
   "cell_type": "code",
   "execution_count": null,
   "metadata": {},
   "outputs": [],
   "source": [
    "# a string containing some letters, numbers, and symbols\n",
    "\n",
    "my_str = \"Hello, World! 1234 @#$%\""
   ]
  },
  {
   "cell_type": "markdown",
   "metadata": {},
   "source": [
    "In this case, the string is ALL the characters between the quotes, including spaces and punctuation. The quotes are not part of the string itself."
   ]
  },
  {
   "cell_type": "markdown",
   "metadata": {},
   "source": [
    "### Strings properties and methods\n",
    "\n",
    "Just like other objects in Python, strings have a set of properties and methods that can be accessed using the dot notation. Some of the most used are these:\n",
    "\n",
    "- `len()`: returns the length of the string.\n",
    "- `.lower()`: returns the string in lowercase.\n",
    "- `.upper()`: returns the string in uppercase.\n",
    "- `.capitalize()`: returns the string with the first letter capitalized.\n",
    "- `.title()`: returns the string in title case -- all words start with uppercase.\n",
    "- `.split()`: returns a list of substrings separated by a delimiter.\n",
    "- `.join()`: returns a string that is a concatenation of the strings in an iterable.\n",
    "- `.replace()`: returns a copy of the string with a substring replaced with another.\n",
    "- `.strip()`: returns the string with leading and trailing whitespace removed."
   ]
  },
  {
   "cell_type": "markdown",
   "metadata": {},
   "source": [
    "`len()` will return the number of characters in a string, including spaces and punctuation."
   ]
  },
  {
   "cell_type": "code",
   "execution_count": 2,
   "metadata": {},
   "outputs": [
    {
     "name": "stdout",
     "output_type": "stream",
     "text": [
      "12\n"
     ]
    }
   ],
   "source": [
    "my_str = \"Hello World!\"\n",
    "\n",
    "print(len(my_str)) # will include the whitespace and the exclamation mark"
   ]
  },
  {
   "cell_type": "markdown",
   "metadata": {},
   "source": [
    "`lower()` converts all uppercase characters to lowercase, e.g. `HELLO` becomes `hello`.\n",
    "\n",
    "`upper()` converts all lowercase characters to uppercase, e.g. `hello` becomes `HELLO`.\n",
    "\n",
    "`capitalize()` converts the first character to uppercase and the rest to lowercase, e.g. `hello` becomes `Hello`.\n",
    "\n",
    "`title()` converts the first character of each word to uppercase and the rest to lowercase, e.g. `hello world` becomes `Hello World`."
   ]
  },
  {
   "cell_type": "code",
   "execution_count": 7,
   "metadata": {},
   "outputs": [
    {
     "name": "stdout",
     "output_type": "stream",
     "text": [
      "hi there, i'm dani\n"
     ]
    }
   ],
   "source": [
    "# lower()\n",
    "\n",
    "another_string = \"Hi there, I'm Dani\"\n",
    "\n",
    "print(another_string.lower())"
   ]
  },
  {
   "cell_type": "code",
   "execution_count": 8,
   "metadata": {},
   "outputs": [
    {
     "name": "stdout",
     "output_type": "stream",
     "text": [
      "HI THERE, I'M DANI\n"
     ]
    }
   ],
   "source": [
    "# upper()\n",
    "\n",
    "print(another_string.upper())"
   ]
  },
  {
   "cell_type": "code",
   "execution_count": 9,
   "metadata": {},
   "outputs": [
    {
     "name": "stdout",
     "output_type": "stream",
     "text": [
      "Table and chairs\n"
     ]
    }
   ],
   "source": [
    "# capitalize()\n",
    "\n",
    "my_str = \"table and chairs\"\n",
    "\n",
    "print(my_str.capitalize())"
   ]
  },
  {
   "cell_type": "code",
   "execution_count": 11,
   "metadata": {},
   "outputs": [
    {
     "name": "stdout",
     "output_type": "stream",
     "text": [
      "Table And Chairs\n"
     ]
    }
   ],
   "source": [
    "# title()\n",
    "\n",
    "print(my_str.title())"
   ]
  },
  {
   "cell_type": "markdown",
   "metadata": {},
   "source": [
    "`split()` is a method that allows us to convert a string into a list of substrings. Lists are objects that can be thought of as a collection of items. We will learn more about lists in the next chapter. For now, we will focus on the `split()` method.\n",
    "\n",
    "The `split()` method takes a string as an argument and returns a list of substrings. The string that is passed as an argument is called the delimiter. The delimiter is used to split the string. The default delimiter is a space. The following example shows how to use the `split()` method.\n",
    "\n",
    "```python\n",
    "s = 'This is a string'\n",
    "s.split()\n",
    "```\n",
    "\n",
    "The output of the above code is:\n",
    "\n",
    "```python\n",
    "['This', 'is', 'a', 'string']\n",
    "```"
   ]
  },
  {
   "cell_type": "code",
   "execution_count": 12,
   "metadata": {},
   "outputs": [
    {
     "data": {
      "text/plain": [
       "['This', 'is', 'a', 'string', 'to', 'split']"
      ]
     },
     "execution_count": 12,
     "metadata": {},
     "output_type": "execute_result"
    }
   ],
   "source": [
    "# split\n",
    "\n",
    "string_to_split = \"This is a string to split\"\n",
    "\n",
    "string_to_split.split() # using default delimiter: whitespace"
   ]
  },
  {
   "cell_type": "code",
   "execution_count": 13,
   "metadata": {},
   "outputs": [
    {
     "data": {
      "text/plain": [
       "['Th', ' ', ' a string to split']"
      ]
     },
     "execution_count": 13,
     "metadata": {},
     "output_type": "execute_result"
    }
   ],
   "source": [
    "string_to_split.split(\"is\")"
   ]
  },
  {
   "cell_type": "code",
   "execution_count": 14,
   "metadata": {},
   "outputs": [
    {
     "data": {
      "text/plain": [
       "['This is ', ' string to split']"
      ]
     },
     "execution_count": 14,
     "metadata": {},
     "output_type": "execute_result"
    }
   ],
   "source": [
    "string_to_split.split(\"a\")"
   ]
  },
  {
   "cell_type": "markdown",
   "metadata": {},
   "source": [
    "As you can see, depending on which character or sequence of characters, `split()` will return a different list.\n",
    "\n",
    "If we want to convert a list of strings back into a single string, we can use the `join()` method. \n",
    "\n",
    "This method allows us to \"glue\" together a list of strings with a given delimiter. This delimiter can be any string, including the empty string.\n",
    "\n",
    "Let's see some examples:\n"
   ]
  },
  {
   "cell_type": "code",
   "execution_count": 16,
   "metadata": {},
   "outputs": [
    {
     "name": "stdout",
     "output_type": "stream",
     "text": [
      "abc\n"
     ]
    }
   ],
   "source": [
    "list_of_strings = ['a', 'b', 'c']\n",
    "\n",
    "print(\"\".join(list_of_strings)) # from list to string"
   ]
  },
  {
   "cell_type": "code",
   "execution_count": 15,
   "metadata": {},
   "outputs": [
    {
     "data": {
      "text/plain": [
       "'dateXXXtimeXXXlocation'"
      ]
     },
     "execution_count": 15,
     "metadata": {},
     "output_type": "execute_result"
    }
   ],
   "source": [
    "list_of_strings = [\"date\", \"time\", \"location\"]\n",
    "\n",
    "\"XXX\".join(list_of_strings) # using a different separator to glue the strings together"
   ]
  },
  {
   "cell_type": "markdown",
   "metadata": {},
   "source": [
    "As you can see, with `split()` and `join()` we can convert between strings and lists of strings.\n",
    "\n",
    "This is useful when we need to process string parts as lists of strings, and then convert back to strings.\n",
    "\n",
    "<p align=\"center\">\n",
    "<img src=\"../../img/split_join.png\" width=\"400\">\n",
    "</p>"
   ]
  },
  {
   "cell_type": "code",
   "execution_count": null,
   "metadata": {},
   "outputs": [],
   "source": []
  }
 ],
 "metadata": {
  "kernelspec": {
   "display_name": "pyex",
   "language": "python",
   "name": "python3"
  },
  "language_info": {
   "codemirror_mode": {
    "name": "ipython",
    "version": 3
   },
   "file_extension": ".py",
   "mimetype": "text/x-python",
   "name": "python",
   "nbconvert_exporter": "python",
   "pygments_lexer": "ipython3",
   "version": "3.10.12"
  },
  "orig_nbformat": 4
 },
 "nbformat": 4,
 "nbformat_minor": 2
}
