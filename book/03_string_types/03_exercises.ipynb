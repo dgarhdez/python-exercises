{
 "cells": [
  {
   "cell_type": "markdown",
   "metadata": {},
   "source": [
    "# Strings, Lists, Tuples: properties, methods and formatting"
   ]
  },
  {
   "cell_type": "markdown",
   "metadata": {},
   "source": [
    "### Exercise 3.1\n",
    "\n",
    "Given this text:\n",
    "\n",
    "```python\n",
    "text = \"The quick brown fox jumps over the lazy dog\"\n",
    "```\n",
    "\n",
    "Return the number of characters included in it."
   ]
  },
  {
   "cell_type": "code",
   "execution_count": null,
   "metadata": {},
   "outputs": [],
   "source": []
  },
  {
   "cell_type": "markdown",
   "metadata": {},
   "source": [
    "It contains 43 characters, including spaces."
   ]
  },
  {
   "cell_type": "markdown",
   "metadata": {},
   "source": [
    "### Exercise 3.2\n",
    "\n",
    "For the same text as in the previous exercise, how many words are there in the text?"
   ]
  },
  {
   "cell_type": "code",
   "execution_count": null,
   "metadata": {},
   "outputs": [],
   "source": []
  },
  {
   "cell_type": "markdown",
   "metadata": {},
   "source": [
    "We can use `len` on the list of strings result of `split` to get the number of words in a string. There are 9 words separated by spaces."
   ]
  },
  {
   "cell_type": "markdown",
   "metadata": {},
   "source": [
    "### Exercise 3.3\n",
    "\n",
    "Create a variable called `name` that contains a string including your first name and last name(s) separated by a space. \n",
    "\n",
    "Then convert your `name` into lowercase and uppercase letters.\n",
    "\n",
    "Save each one of them into different variables called `name_lower` and `name_upper`.\n",
    "\n",
    "Then print all the three variables."
   ]
  },
  {
   "cell_type": "code",
   "execution_count": null,
   "metadata": {},
   "outputs": [],
   "source": []
  },
  {
   "cell_type": "markdown",
   "metadata": {},
   "source": [
    "### Exercise 3.4\n",
    "\n",
    "Using the following text:\n",
    "\n",
    "```python\n",
    "text = \"The quick brown fox jumps over the lazy dog\"\n",
    "```\n",
    "\n",
    "Extract the following slices:\n",
    "* First ten characters\n",
    "* First ten characters not taking into account whitespaces (hint: use `replace`)\n",
    "* Last ten characters\n",
    "* Every other character, starting from the first one\n",
    "* Every third character, starting from the last one"
   ]
  },
  {
   "cell_type": "code",
   "execution_count": null,
   "metadata": {},
   "outputs": [],
   "source": []
  },
  {
   "cell_type": "markdown",
   "metadata": {},
   "source": [
    "### Exercise 3.5\n",
    "\n",
    "Create a list named `fruits` with the following words in it: `banana`, `apple`, `orange`, `lemon`, `cherry`, `strawberry`, `grapefruit`.\n",
    "\n",
    "Then sort the list alphabetically and print it."
   ]
  },
  {
   "cell_type": "code",
   "execution_count": null,
   "metadata": {},
   "outputs": [],
   "source": []
  },
  {
   "cell_type": "markdown",
   "metadata": {},
   "source": [
    "### Exercise 3.6\n",
    "\n",
    "Using the fruits list, create a string with the following format:\n",
    "\n",
    "```\n",
    "My favorite fruits are: banana, apple, orange, lemon, cherry, strawberry, grapefruit.\n",
    "```\n",
    "\n",
    "There shouldn't be whitespaces at the beginning or at the end of the string."
   ]
  },
  {
   "cell_type": "code",
   "execution_count": null,
   "metadata": {},
   "outputs": [],
   "source": []
  },
  {
   "cell_type": "markdown",
   "metadata": {},
   "source": [
    "### Exercise 3.7\n",
    "\n",
    "Create a list of lists called `vegan` where the first one is `fruits` list, and the second list is made out of with the following words: `tomato`, `potato`, `carrot`, `onion`, `garlic`, `lettuce`, `cucumber`."
   ]
  },
  {
   "cell_type": "code",
   "execution_count": null,
   "metadata": {},
   "outputs": [],
   "source": []
  },
  {
   "cell_type": "markdown",
   "metadata": {},
   "source": [
    "### Exercise 3.8\n",
    "\n",
    "Extract the following from `vegan`:\n",
    "\n",
    "* The 1st element of the 2nd list\n",
    "* The last letter of the 4th element of the 1st list\n",
    "* The 2nd letter of the 3rd element of the 2nd list\n",
    "* The 5th word of the 1st list but reversed"
   ]
  },
  {
   "cell_type": "code",
   "execution_count": null,
   "metadata": {},
   "outputs": [],
   "source": []
  },
  {
   "cell_type": "markdown",
   "metadata": {},
   "source": [
    "### Exercise 3.9\n",
    "\n",
    "Create a new list containing tuples where each tuple contains one fruit and one vegetable from the `vegan` list."
   ]
  },
  {
   "cell_type": "code",
   "execution_count": null,
   "metadata": {},
   "outputs": [],
   "source": []
  },
  {
   "cell_type": "markdown",
   "metadata": {},
   "source": [
    "### Exercise 3.10\n",
    "\n",
    "Take the `vegetables` list, sort it alphabetically, and then create a new list with tuples where each tuple contains the position of the vegetable in the sorted list and the vegetable itself.\n",
    "\n",
    "Remember that the `sort()` method will sort the list in memory and returns `None`. So first you need to sort the list, and then use it in your exercise."
   ]
  },
  {
   "cell_type": "code",
   "execution_count": null,
   "metadata": {},
   "outputs": [],
   "source": []
  },
  {
   "cell_type": "markdown",
   "metadata": {},
   "source": [
    "### Exercise 3.11\n",
    "\n",
    "Add the following fruits and vegetables to the `fruits` and `vegetables` lists, respectively: `pear`, `peach`, `broccoli`, `spinach`.\n",
    "\n",
    "Then create a new list called `fruits_and_vegetables` that contains all the `fruits` and `vegetables` lists.\n",
    "\n",
    "You can use the following approaches:\n",
    "* `+` operator to concatenate lists\n",
    "* `append()` method to add elements to a list one by one\n",
    "* `extend()` method to add all the elements of a list to another list"
   ]
  },
  {
   "cell_type": "code",
   "execution_count": null,
   "metadata": {},
   "outputs": [],
   "source": []
  }
 ],
 "metadata": {
  "kernelspec": {
   "display_name": "pyex",
   "language": "python",
   "name": "python3"
  },
  "language_info": {
   "codemirror_mode": {
    "name": "ipython",
    "version": 3
   },
   "file_extension": ".py",
   "mimetype": "text/x-python",
   "name": "python",
   "nbconvert_exporter": "python",
   "pygments_lexer": "ipython3",
   "version": "3.10.12"
  },
  "orig_nbformat": 4
 },
 "nbformat": 4,
 "nbformat_minor": 2
}
