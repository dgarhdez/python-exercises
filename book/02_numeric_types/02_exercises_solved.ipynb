{
 "cells": [
  {
   "cell_type": "markdown",
   "metadata": {},
   "source": [
    "# Numeric Types and operations"
   ]
  },
  {
   "cell_type": "markdown",
   "metadata": {},
   "source": [
    "### Exercise 2.1\n",
    "\n",
    "Calculate the value of `x`\n",
    "\n",
    "$$ x = \\frac{a^b}{c \\cdot a} $$\n",
    "\n",
    "For the following values of $a$, $b$ and $c$:\n",
    "\n",
    "$$ a = 2, b = 3.05, c = 10/3 $$"
   ]
  },
  {
   "cell_type": "code",
   "execution_count": 2,
   "metadata": {},
   "outputs": [
    {
     "name": "stdout",
     "output_type": "stream",
     "text": [
      "1.2423179086096527\n"
     ]
    }
   ],
   "source": [
    "a = 2\n",
    "b = 3.05\n",
    "c = 10/3\n",
    "\n",
    "x = (a ** b) / (c * a)\n",
    "\n",
    "print(x)"
   ]
  },
  {
   "cell_type": "markdown",
   "metadata": {},
   "source": [
    "### Exercise 2.2\n",
    "\n",
    "Since we can represent speed as the ratio of distance to time, write a program that asks for a distance and a time, then calculates the speed, and prints it out.\n",
    "\n",
    "You can ask the user for input using the `input()` function. For example:\n",
    "\n",
    "```python\n",
    "name = input(\"What is your name?\")\n",
    "```\n",
    "\n",
    "will ask the user for their name, and store the result in the variable `name`.\n",
    "\n",
    "**Hint**: Remember that the `input()` function returns a string, so you will need to convert the input to a number before you can do any calculations with it."
   ]
  },
  {
   "cell_type": "code",
   "execution_count": 3,
   "metadata": {},
   "outputs": [
    {
     "name": "stdout",
     "output_type": "stream",
     "text": [
      "1.0  m/s\n"
     ]
    }
   ],
   "source": [
    "distance = input(\"Enter distance in meters: \")\n",
    "time = input(\"Enter time in seconds: \")\n",
    "\n",
    "speed = float(distance) / float(time)\n",
    "\n",
    "print(speed, \" m/s\")"
   ]
  },
  {
   "cell_type": "markdown",
   "metadata": {},
   "source": [
    "### Exercise 2.3\n",
    "\n",
    "How many numbers between 1 and 10 are divisible by 3?"
   ]
  },
  {
   "cell_type": "code",
   "execution_count": 4,
   "metadata": {},
   "outputs": [
    {
     "name": "stdout",
     "output_type": "stream",
     "text": [
      "1 False\n",
      "2 False\n",
      "3 True\n",
      "4 False\n",
      "5 False\n",
      "6 True\n",
      "7 False\n",
      "8 False\n",
      "9 True\n",
      "10 False\n"
     ]
    }
   ],
   "source": [
    "print(1, 1 % 3 == 0)\n",
    "print(2, 2 % 3 == 0)\n",
    "print(3, 3 % 3 == 0)\n",
    "print(4, 4 % 3 == 0)\n",
    "print(5, 5 % 3 == 0)\n",
    "print(6, 6 % 3 == 0)\n",
    "print(7, 7 % 3 == 0)\n",
    "print(8, 8 % 3 == 0)\n",
    "print(9, 9 % 3 == 0)\n",
    "print(10, 10 % 3 == 0)"
   ]
  },
  {
   "cell_type": "markdown",
   "metadata": {},
   "source": [
    "We can see that only 3 numbers between 1 and 10 are divisible by 3: 3, 6, and 9. \n",
    "\n",
    "We have used the modulo operator (`%`) to calculate the remainder of a division, in order to check if a number is divisible by another number:\n",
    "* If the remainder is 0, then the first number is divisible by the second number.\n",
    "* Otherwise, it is not divisible."
   ]
  },
  {
   "cell_type": "markdown",
   "metadata": {},
   "source": [
    "### Exercise 2.4\n",
    "\n",
    "How many seconds are there in 1 hour and 52 minutes?"
   ]
  },
  {
   "cell_type": "code",
   "execution_count": 7,
   "metadata": {},
   "outputs": [
    {
     "name": "stdout",
     "output_type": "stream",
     "text": [
      "6720\n"
     ]
    }
   ],
   "source": [
    "hours = 1\n",
    "minutes = 52\n",
    "\n",
    "seconds = hours * 60 * 60 + minutes * 60\n",
    "\n",
    "print(seconds)"
   ]
  },
  {
   "cell_type": "markdown",
   "metadata": {},
   "source": [
    "We know that there are 60 seconds in a minute and 60 minutes in an hour.\n",
    "\n",
    "Hence, in order to convert hours to seconds, first we need to convert hours to minutes by multiplying (`*`) by 60 and then minutes to seconds by multiplying again by 60.\n",
    "\n",
    "Then we add the conversion of the 52 minutes into seconds by multiplying by 60.\n",
    "\n",
    "Finally, we add all the seconds together with an addition (`+`)"
   ]
  },
  {
   "cell_type": "markdown",
   "metadata": {},
   "source": [
    "### Exercise 2.5\n",
    "\n",
    "The relation between the Celsius and Fahrenheit temperature scales is given by the formula:\n",
    "\n",
    "$$ F = \\frac{9}{5} \\cdot C + 32 $$\n",
    "\n",
    "Save a Celsius temperature value under the variable `temp_celsius` and convert it to Fahrenheit saving the result under the variable `temp_fahrenheit`.\n",
    "\n",
    "Print the result."
   ]
  },
  {
   "cell_type": "code",
   "execution_count": 8,
   "metadata": {},
   "outputs": [
    {
     "name": "stdout",
     "output_type": "stream",
     "text": [
      "68.0\n"
     ]
    }
   ],
   "source": [
    "temp_celsius = 20\n",
    "\n",
    "# convert to Fahrenheit\n",
    "temp_fahrenheit = temp_celsius * 9 / 5 + 32\n",
    "\n",
    "# print the result\n",
    "print(temp_fahrenheit)"
   ]
  },
  {
   "cell_type": "markdown",
   "metadata": {},
   "source": [
    "### Exercise 2.6\n",
    "\n",
    "If the area of a square room is 27 square meters, calculate the length of its side.\n",
    "\n",
    "**Hint**: The area of a square is the square of its sidem therefore given the area $A$ of a square, the length of its side $s$ is given by $s = \\sqrt{A}$."
   ]
  },
  {
   "cell_type": "code",
   "execution_count": 9,
   "metadata": {},
   "outputs": [
    {
     "name": "stdout",
     "output_type": "stream",
     "text": [
      "5.196152422706632\n"
     ]
    }
   ],
   "source": [
    "area = 27\n",
    "\n",
    "side = area ** 0.5\n",
    "\n",
    "print(side)"
   ]
  },
  {
   "cell_type": "markdown",
   "metadata": {},
   "source": [
    "In order to solve this exercise, we are using the property of exponents where\n",
    "\n",
    "$$ \\sqrt[n]{x} = x^{\\frac{1}{n}} $$\n",
    "\n",
    "This means that exponents and roots use the same thing, and therefore we can use the same operator in Python (`**`) for the two operations."
   ]
  },
  {
   "cell_type": "markdown",
   "metadata": {},
   "source": [
    "### Exercise 2.7\n",
    "\n",
    "You are planning to take a road trip to the beach, which is 330 kilometers away. You are planning to drive at 110 km/h the entire way. How long will it take you to get to the beach?\n",
    "\n",
    "Calculate the answer in minutes."
   ]
  },
  {
   "cell_type": "code",
   "execution_count": 12,
   "metadata": {},
   "outputs": [
    {
     "name": "stdout",
     "output_type": "stream",
     "text": [
      "180.0\n"
     ]
    }
   ],
   "source": [
    "distance_km = 330\n",
    "speed_kmh = 110\n",
    "\n",
    "time_h = 60 * distance_km / speed_kmh\n",
    "\n",
    "print(time_h)"
   ]
  },
  {
   "cell_type": "markdown",
   "metadata": {},
   "source": [
    "### Exercise 2.8\n",
    "\n",
    "With a slight change of plans, now you want to do the same trip as in [Exercise 2.7](###Exercise-2.7), but you want to do it on a rented bicycle. You can cycle maximum for 50 km per day.\n",
    "\n",
    "How many days should you rent the bycicle for?"
   ]
  },
  {
   "cell_type": "code",
   "execution_count": 19,
   "metadata": {},
   "outputs": [
    {
     "name": "stdout",
     "output_type": "stream",
     "text": [
      "6.6\n"
     ]
    }
   ],
   "source": [
    "distance_km = 330\n",
    "\n",
    "max_daily_distance_km = 50\n",
    "\n",
    "total_days = distance_km / max_daily_distance_km\n",
    "\n",
    "print(total_days)"
   ]
  },
  {
   "cell_type": "markdown",
   "metadata": {},
   "source": [
    "Since the division is not exact, the result is a float number. The `6.6` days result means that we need to rent the bycicle for 7 days since it will take us 6 full days plus a bit more (0.6 days) to complete the trip."
   ]
  },
  {
   "cell_type": "markdown",
   "metadata": {},
   "source": [
    "### Exercise 2.9\n",
    "\n",
    "In a pizza shop, you can buy 3 different sizes of pizzas:\n",
    "\n",
    "- Small: 30 cm diameter, 11.50 €\n",
    "- Large: 45 cm diameter, 22 €\n",
    "\n",
    "You are very hungry and have two options:\n",
    "* Option 1: buy two small pizzas\n",
    "* Option 2: buy one large pizza\n",
    "\n",
    "Which option is better in terms of price per cm$^2$?\n",
    "\n",
    "**Hint**: The area of a circle is given by $A = \\pi r^2$. You can approximate $\\pi$ with 3.14"
   ]
  },
  {
   "cell_type": "code",
   "execution_count": 23,
   "metadata": {},
   "outputs": [
    {
     "name": "stdout",
     "output_type": "stream",
     "text": [
      "0.004069355980184005\n",
      "0.0003145395926712275\n"
     ]
    }
   ],
   "source": [
    "option_1_amount = 2 * 3.14 * 30 ** 2\n",
    "option_2_amount = 3.14 * 45 ** 2\n",
    "\n",
    "unitary_price_option_1 = 2 * 11.5 / option_1_amount\n",
    "unitary_price_option_2 = 2 / option_2_amount\n",
    "\n",
    "print(unitary_price_option_1)\n",
    "print(unitary_price_option_2)\n"
   ]
  },
  {
   "cell_type": "markdown",
   "metadata": {},
   "source": [
    "According to the prices, option 2 is the best choice since the cost of each cm2 is the lowest (0.0031 vs 0.0041)"
   ]
  },
  {
   "cell_type": "markdown",
   "metadata": {},
   "source": [
    "### Exercise 2.10\n",
    "\n",
    "In the same pizza place, now you want to maximize the amount of pizza you get, independently of the cost.\n",
    "\n",
    "Which option is better?\n",
    "* Option 1: 2 pizzas of 30 cm diameter\n",
    "* Option 2: 1 pizza of 45 cm diameter"
   ]
  },
  {
   "cell_type": "code",
   "execution_count": 24,
   "metadata": {},
   "outputs": [
    {
     "name": "stdout",
     "output_type": "stream",
     "text": [
      "5652.0\n",
      "6358.5\n"
     ]
    }
   ],
   "source": [
    "amount_option_1 = 2 * 3.14 * 30 ** 2\n",
    "amount_option_2 = 3.14 * 45 ** 2\n",
    "\n",
    "print(amount_option_1)\n",
    "print(amount_option_2)"
   ]
  },
  {
   "cell_type": "markdown",
   "metadata": {},
   "source": [
    "According to the results, Option 2 provides more pizza per pizza."
   ]
  }
 ],
 "metadata": {
  "kernelspec": {
   "display_name": "pyex",
   "language": "python",
   "name": "python3"
  },
  "language_info": {
   "codemirror_mode": {
    "name": "ipython",
    "version": 3
   },
   "file_extension": ".py",
   "mimetype": "text/x-python",
   "name": "python",
   "nbconvert_exporter": "python",
   "pygments_lexer": "ipython3",
   "version": "3.10.12"
  },
  "orig_nbformat": 4
 },
 "nbformat": 4,
 "nbformat_minor": 2
}
