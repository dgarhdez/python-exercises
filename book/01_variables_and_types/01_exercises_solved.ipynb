{
 "cells": [
  {
   "cell_type": "markdown",
   "metadata": {},
   "source": [
    "# Variables and Types"
   ]
  },
  {
   "cell_type": "markdown",
   "metadata": {},
   "source": [
    "### Exercise 1.1\n",
    "\n",
    "Create a variable called `my_name` and assign it a string containing your name. Then print its value.\n",
    "\n",
    "Since your name is a string, you should use quotation marks around it."
   ]
  },
  {
   "cell_type": "code",
   "execution_count": 1,
   "metadata": {},
   "outputs": [
    {
     "name": "stdout",
     "output_type": "stream",
     "text": [
      "daniel\n"
     ]
    }
   ],
   "source": [
    "my_name = \"daniel\"\n",
    "\n",
    "print(my_name)"
   ]
  },
  {
   "cell_type": "markdown",
   "metadata": {},
   "source": [
    "### Exercise 1.2\n",
    "\n",
    "Using the previous variable, evaluate it without printing it."
   ]
  },
  {
   "cell_type": "code",
   "execution_count": 2,
   "metadata": {},
   "outputs": [
    {
     "data": {
      "text/plain": [
       "'daniel'"
      ]
     },
     "execution_count": 2,
     "metadata": {},
     "output_type": "execute_result"
    }
   ],
   "source": [
    "my_name"
   ]
  },
  {
   "cell_type": "markdown",
   "metadata": {},
   "source": [
    "The displayed values for [Exercise 1](#Exercise-1) and [Exercise 2](#Exercise-2) are the same, because the representation of the characters contained in the string is the same for both the computer and the human."
   ]
  },
  {
   "cell_type": "markdown",
   "metadata": {},
   "source": [
    "### Exercise 1.3\n",
    "\n",
    "Now print the type of `my_name` using the `type()` function."
   ]
  },
  {
   "cell_type": "code",
   "execution_count": 3,
   "metadata": {},
   "outputs": [
    {
     "name": "stdout",
     "output_type": "stream",
     "text": [
      "<class 'str'>\n"
     ]
    }
   ],
   "source": [
    "print(type(my_name))"
   ]
  },
  {
   "cell_type": "markdown",
   "metadata": {},
   "source": [
    "### Exercise 1.4\n",
    "\n",
    "Create a new variable called `text` that contains the following text:\n",
    "\n",
    "```\n",
    "The\\nquick\\nbrown\\nfox\\njumps\\nover\\nthe\\nlazy\\ndog.\n",
    "```"
   ]
  },
  {
   "cell_type": "code",
   "execution_count": 4,
   "metadata": {},
   "outputs": [],
   "source": [
    "text = 'The\\nquick\\nbrown\\nfox\\njumps\\nover\\nthe\\nlazy\\ndog.'  # single quotes"
   ]
  },
  {
   "cell_type": "code",
   "execution_count": 5,
   "metadata": {},
   "outputs": [],
   "source": [
    "text2 = \"The\\nquick\\nbrown\\nfox\\njumps\\nover\\nthe\\nlazy\\ndog.\"  # double quotes"
   ]
  },
  {
   "cell_type": "code",
   "execution_count": 6,
   "metadata": {},
   "outputs": [],
   "source": [
    "text3 = \"\"\"The\\nquick\\nbrown\\nfox\\njumps\\nover\\nthe\\nlazy\\ndog.\"\"\"  # triple quotes"
   ]
  },
  {
   "cell_type": "markdown",
   "metadata": {},
   "source": [
    "Remember that `strings` in Python can be represented with either single quotes `'`, double quotes `\"`, or triple quotes `\"\"\"`. It doesn't matter which one you use, as long as you are consistent. \n",
    "\n",
    "We can check whether or not the content of `text` is the same independent of the type of quotes used to represent it, via the `==` operator."
   ]
  },
  {
   "cell_type": "code",
   "execution_count": 7,
   "metadata": {},
   "outputs": [
    {
     "data": {
      "text/plain": [
       "True"
      ]
     },
     "execution_count": 7,
     "metadata": {},
     "output_type": "execute_result"
    }
   ],
   "source": [
    "'The\\nquick\\nbrown\\nfox\\njumps\\nover\\nthe\\nlazy\\ndog.' == \"The\\nquick\\nbrown\\nfox\\njumps\\nover\\nthe\\nlazy\\ndog.\""
   ]
  },
  {
   "cell_type": "code",
   "execution_count": 8,
   "metadata": {},
   "outputs": [
    {
     "data": {
      "text/plain": [
       "True"
      ]
     },
     "execution_count": 8,
     "metadata": {},
     "output_type": "execute_result"
    }
   ],
   "source": [
    "'The\\nquick\\nbrown\\nfox\\njumps\\nover\\nthe\\nlazy\\ndog.' == \"\"\"The\\nquick\\nbrown\\nfox\\njumps\\nover\\nthe\\nlazy\\ndog.\"\"\""
   ]
  },
  {
   "cell_type": "markdown",
   "metadata": {},
   "source": [
    "### Exercise 1.5\n",
    "\n",
    "Using the variable from [Exercise 1.4](#Exercise-1.4), first evaluate the variable and then print it, to see the difference when python displays the variable in each case."
   ]
  },
  {
   "cell_type": "code",
   "execution_count": 9,
   "metadata": {},
   "outputs": [
    {
     "data": {
      "text/plain": [
       "'The\\nquick\\nbrown\\nfox\\njumps\\nover\\nthe\\nlazy\\ndog.'"
      ]
     },
     "execution_count": 9,
     "metadata": {},
     "output_type": "execute_result"
    }
   ],
   "source": [
    "text # evaluate the variable"
   ]
  },
  {
   "cell_type": "code",
   "execution_count": 10,
   "metadata": {},
   "outputs": [
    {
     "name": "stdout",
     "output_type": "stream",
     "text": [
      "The\n",
      "quick\n",
      "brown\n",
      "fox\n",
      "jumps\n",
      "over\n",
      "the\n",
      "lazy\n",
      "dog.\n"
     ]
    }
   ],
   "source": [
    "print(text) # print the text variable"
   ]
  },
  {
   "cell_type": "markdown",
   "metadata": {},
   "source": [
    "As we can see, by printing `\\n` we will get the human readable form of the newline character, which is a new line."
   ]
  },
  {
   "cell_type": "markdown",
   "metadata": {},
   "source": [
    "### Exercise 1.6\n",
    "\n",
    "Create two variables with the same value and check their id's. Are they the same?"
   ]
  },
  {
   "cell_type": "code",
   "execution_count": 13,
   "metadata": {},
   "outputs": [
    {
     "name": "stdout",
     "output_type": "stream",
     "text": [
      "4313727216\n",
      "4313727216\n"
     ]
    }
   ],
   "source": [
    "var1 = 1\n",
    "var2 = 1\n",
    "\n",
    "print(id(var1))\n",
    "print(id(var2))"
   ]
  },
  {
   "cell_type": "markdown",
   "metadata": {},
   "source": [
    "### Exercise 1.7\n",
    "\n",
    "Create a new variable called `text_2` that contains the same piece of text as `text` and check the ids for both. What do you notice?"
   ]
  },
  {
   "cell_type": "code",
   "execution_count": 14,
   "metadata": {},
   "outputs": [
    {
     "name": "stdout",
     "output_type": "stream",
     "text": [
      "4363439440\n",
      "4363441232\n"
     ]
    }
   ],
   "source": [
    "text_2 = 'The\\nquick\\nbrown\\nfox\\njumps\\nover\\nthe\\nlazy\\ndog.'\n",
    "\n",
    "print(id(text))\n",
    "print(id(text_2))"
   ]
  },
  {
   "cell_type": "markdown",
   "metadata": {},
   "source": [
    "In this case, the two variables have different ids. This happend because for strings, whether or not two equal strings will have the same id depends on the Python implementation. In this case, the two strings are not the same object, so they have different ids.\n",
    "\n",
    "In order to check if two strings are the same object, we can use the `is` operator:"
   ]
  },
  {
   "cell_type": "code",
   "execution_count": 15,
   "metadata": {},
   "outputs": [
    {
     "data": {
      "text/plain": [
       "False"
      ]
     },
     "execution_count": 15,
     "metadata": {},
     "output_type": "execute_result"
    }
   ],
   "source": [
    "text is text_2"
   ]
  },
  {
   "cell_type": "markdown",
   "metadata": {},
   "source": [
    "It's false, meaning that in memory it's two different objects."
   ]
  },
  {
   "cell_type": "markdown",
   "metadata": {},
   "source": [
    "### Exercise 1.8\n",
    "\n",
    "Using the commenting capabilities of python, write 3 commented lines with the following information:\n",
    "* Your name\n",
    "* Your email address\n",
    "* The date"
   ]
  },
  {
   "cell_type": "code",
   "execution_count": null,
   "metadata": {},
   "outputs": [],
   "source": [
    "# Daniel\n",
    "# my_email@my_server.tv\n",
    "# 2023-01-01"
   ]
  },
  {
   "cell_type": "markdown",
   "metadata": {},
   "source": [
    "### Exercise 1.9\n",
    "\n",
    "Create 2 variables, `var1` and `var2`, saving into them whatever you want. Using comments, explain what each variable contains _before_ the definition of each variable"
   ]
  },
  {
   "cell_type": "code",
   "execution_count": 16,
   "metadata": {},
   "outputs": [],
   "source": [
    "# this variable contains a string\n",
    "var1 = \"a\"\n",
    "\n",
    "# this variable contains an integer\n",
    "var2 = 2"
   ]
  },
  {
   "cell_type": "markdown",
   "metadata": {},
   "source": [
    "### Exercise 1.10\n",
    "\n",
    "Create two variables, `num_1` and `num_2`, where `num_1` is equal to `3` and `num_2` is equal to `3.0`.\n",
    "\n",
    "Check if their ids are equal."
   ]
  },
  {
   "cell_type": "code",
   "execution_count": 17,
   "metadata": {},
   "outputs": [
    {
     "name": "stdout",
     "output_type": "stream",
     "text": [
      "4313727280\n",
      "4362917616\n"
     ]
    }
   ],
   "source": [
    "num_1 = 3\n",
    "num_2 = 3.0\n",
    "\n",
    "print(id(num_1))\n",
    "print(id(num_2))"
   ]
  },
  {
   "cell_type": "markdown",
   "metadata": {},
   "source": [
    "Even though the numbers are the `float` and `int` versions of the same reality, for Python they're different objects, hence the different ids."
   ]
  }
 ],
 "metadata": {
  "kernelspec": {
   "display_name": "pyex",
   "language": "python",
   "name": "python3"
  },
  "language_info": {
   "codemirror_mode": {
    "name": "ipython",
    "version": 3
   },
   "file_extension": ".py",
   "mimetype": "text/x-python",
   "name": "python",
   "nbconvert_exporter": "python",
   "pygments_lexer": "ipython3",
   "version": "3.10.12"
  },
  "orig_nbformat": 4
 },
 "nbformat": 4,
 "nbformat_minor": 2
}
