{
 "cells": [
  {
   "attachments": {},
   "cell_type": "markdown",
   "metadata": {},
   "source": [
    "# Variables and Types"
   ]
  },
  {
   "attachments": {},
   "cell_type": "markdown",
   "metadata": {},
   "source": [
    "## Table of Contents\n",
    "* [Variables](#Variables-in-Python)\n",
    "    * [Variables and their values](#Variables-and-their-values)\n",
    "    * [Naming variables](#Naming-variables)\n",
    "    * [Case sensitive variables](#Case-sensitive-variables)\n",
    "    * [Variable naming conventions](#Variable-naming-conventions)\n",
    "* [Types in Python](#Types-in-Python)\n",
    "    * [Printing variables](#Printing-variables)\n",
    "* [Comments](#Comments)"
   ]
  },
  {
   "attachments": {},
   "cell_type": "markdown",
   "metadata": {},
   "source": [
    "## Variables in Python\n",
    "\n",
    "When we are dealing with data in Python (and in general in every programming language) we can use the data, operate it and work with it and we are done.\n",
    "\n",
    "But if we want to reuse the data, or if we want to save it for later, we need to store it in a variable.\n",
    "\n",
    "In Python, we can store data in a variable by using the equal sign `=`. The left side of the equal sign is the name of the variable, and the right side is the data we want to store in the variable.\n",
    "\n",
    "```python\n",
    "my_variable = 5\n",
    "```\n",
    "\n",
    "In this case, this variable contains the number 5.\n",
    "\n",
    "This means that we have put the number 5 in a box, and we have labeled the box with the name `my_variable`. Now, if we want to use the number 5, we can just use the name `my_variable` instead of the number 5."
   ]
  },
  {
   "attachments": {},
   "cell_type": "markdown",
   "metadata": {},
   "source": [
    "### Variables and their values\n",
    "\n",
    "When we are creating variables in Python, we are saving the content in the computer memory. The variable's name is just a path that takes our code to the memory address where the data is stored.\n",
    "\n",
    "We can have different variables pointing at the same memory address. This means that we can have different variables with the same value.\n",
    "\n",
    "We can use the `id()` function to see the memory address of a variable.\n",
    "\n",
    "```python\n",
    "id(my_variable)\n",
    "```"
   ]
  },
  {
   "cell_type": "code",
   "execution_count": 26,
   "metadata": {},
   "outputs": [
    {
     "data": {
      "text/plain": [
       "4333447760"
      ]
     },
     "execution_count": 26,
     "metadata": {},
     "output_type": "execute_result"
    }
   ],
   "source": [
    "my_variable = 10\n",
    "\n",
    "id(my_variable)"
   ]
  },
  {
   "cell_type": "code",
   "execution_count": 27,
   "metadata": {},
   "outputs": [
    {
     "data": {
      "text/plain": [
       "4333447760"
      ]
     },
     "execution_count": 27,
     "metadata": {},
     "output_type": "execute_result"
    }
   ],
   "source": [
    "another_variable = 10\n",
    "\n",
    "id(another_variable)"
   ]
  },
  {
   "attachments": {},
   "cell_type": "markdown",
   "metadata": {},
   "source": [
    "We can see that the memory address is the same for both variables. This is because in Python, when we create a variable with a value, if there is already a variable with the same value, Python will just point to the same memory address for both variables."
   ]
  },
  {
   "attachments": {},
   "cell_type": "markdown",
   "metadata": {},
   "source": [
    "### Naming variables\n",
    "\n",
    "We can name variables as we want, but there are some rules we need to follow:\n",
    "* The name of the variable can only contain letters, numbers and underscores.\n",
    "* The name of the variable can not start with a number.\n",
    "* We can not use reserved words as variable names: `if`, `else`, `for`, `while`, `def`, `class`, `import`, `from`, `as`, `return`, `try`, `except`, `finally`, `break`, `continue`, `pass`, `lambda`, `None`, `True`, `False`, `and`, `or`, `not`, `in`, `is`, `del`, `global`, `nonlocal`, `assert`, `with`, `yield`, `raise`, `async`, `await`...\n",
    "\n",
    "We can not use the same name for two different variables. If we try to do this, Python will just overwrite the first variable with the new value."
   ]
  },
  {
   "attachments": {},
   "cell_type": "markdown",
   "metadata": {},
   "source": [
    "### Case sensitive variables\n",
    "\n",
    "Python is a case sensitive language. This means that `my_variable` and `My_variable` are two different variables.\n",
    "\n",
    "Also, when storing strings, we need to be careful with the case of the letters. `\"Hello\"` and `\"hello\"` are two different strings."
   ]
  },
  {
   "attachments": {},
   "cell_type": "markdown",
   "metadata": {},
   "source": [
    "### Example 1\n",
    "\n",
    "Check how variables with the same letters in different cases are different variables."
   ]
  },
  {
   "cell_type": "code",
   "execution_count": 28,
   "metadata": {},
   "outputs": [
    {
     "name": "stdout",
     "output_type": "stream",
     "text": [
      "4769592432\n",
      "4769591856\n"
     ]
    }
   ],
   "source": [
    "My_Variable = \"AAAA\"\n",
    "my_variable = \"aaaa\"\n",
    "\n",
    "print(id(My_Variable))\n",
    "print(id(my_variable))"
   ]
  },
  {
   "attachments": {},
   "cell_type": "markdown",
   "metadata": {},
   "source": [
    "We can see that the two variables have different memory addresses, and therefore, they are different variables."
   ]
  },
  {
   "attachments": {},
   "cell_type": "markdown",
   "metadata": {},
   "source": [
    "### Variable naming conventions\n",
    "\n",
    "There are some conventions for naming variables in Python. The most common are:\n",
    "\n",
    "* `snake_case`: All letters are lowercase, and words are separated by underscores. This is the most common convention in Python.\n",
    "* `PascalCase`: The first letter of each word is capitalized. This is used for naming classes.\n",
    "* `UPPER_CASE`: All letters are uppercase. This is used for constants.\n"
   ]
  },
  {
   "attachments": {},
   "cell_type": "markdown",
   "metadata": {},
   "source": [
    "## Types in Python\n",
    "\n",
    "In life we need to categorize the things in order to make sense of them. For example, we can categorize the animals according to their species, or we can categorize the cars according to their brand.\n",
    "\n",
    "We can also categorize the type of data we are using in Python. For example, we can categorize the number 5 as an integer number, or we can categorize the number 5.5 as a floating point number.\n",
    "\n",
    "These are some of the most common types in Python:\n",
    "\n",
    "| Type | Description | Example | Python type |\n",
    "| --- | --- | --- | --- |\n",
    "| Integer | Numbers without decimals | 5 | `int` |\n",
    "| Floating point | Numbers with decimals | 5.5 | `float` |\n",
    "| String | Text | \"Hello\" | `str` |\n",
    "| Boolean | True or False | True | `bool` |\n",
    "\n",
    "We can check the type of a variable by using the `type()` function:\n",
    "\n",
    "```python\n",
    "my_variable = 5\n",
    "type(my_variable)\n",
    "```"
   ]
  },
  {
   "attachments": {},
   "cell_type": "markdown",
   "metadata": {},
   "source": [
    "### Example 2\n",
    "\n",
    "Create one variable for each type and print the type of each variable."
   ]
  },
  {
   "cell_type": "code",
   "execution_count": 29,
   "metadata": {},
   "outputs": [],
   "source": [
    "int_variable = 5\n",
    "float_variable = 14.6667\n",
    "string_variable = \"Hello World\"\n",
    "boolean_variable = True"
   ]
  },
  {
   "attachments": {},
   "cell_type": "markdown",
   "metadata": {},
   "source": [
    "### Example 3\n",
    "\n",
    "Use `type()` to check the type of the variables created in [Example 1](#Example-1)"
   ]
  },
  {
   "cell_type": "code",
   "execution_count": 30,
   "metadata": {},
   "outputs": [
    {
     "data": {
      "text/plain": [
       "int"
      ]
     },
     "execution_count": 30,
     "metadata": {},
     "output_type": "execute_result"
    }
   ],
   "source": [
    "type(int_variable)"
   ]
  },
  {
   "cell_type": "code",
   "execution_count": 31,
   "metadata": {},
   "outputs": [
    {
     "data": {
      "text/plain": [
       "float"
      ]
     },
     "execution_count": 31,
     "metadata": {},
     "output_type": "execute_result"
    }
   ],
   "source": [
    "type(float_variable)"
   ]
  },
  {
   "cell_type": "code",
   "execution_count": 32,
   "metadata": {},
   "outputs": [
    {
     "data": {
      "text/plain": [
       "str"
      ]
     },
     "execution_count": 32,
     "metadata": {},
     "output_type": "execute_result"
    }
   ],
   "source": [
    "type(string_variable)"
   ]
  },
  {
   "cell_type": "code",
   "execution_count": 33,
   "metadata": {},
   "outputs": [
    {
     "data": {
      "text/plain": [
       "bool"
      ]
     },
     "execution_count": 33,
     "metadata": {},
     "output_type": "execute_result"
    }
   ],
   "source": [
    "type(boolean_variable)"
   ]
  },
  {
   "attachments": {},
   "cell_type": "markdown",
   "metadata": {},
   "source": [
    "### Printing variables\n",
    "\n",
    "If we want to print the value of a variable, we can use the `print()` function.\n",
    "\n",
    "```python\n",
    "my_variable = 5\n",
    "print(my_variable)\n",
    "```\n",
    "\n",
    "This will return the value of the variable in the output of the cell."
   ]
  },
  {
   "cell_type": "code",
   "execution_count": 34,
   "metadata": {},
   "outputs": [
    {
     "name": "stdout",
     "output_type": "stream",
     "text": [
      "Hello\n",
      "World\n"
     ]
    }
   ],
   "source": [
    "my_string = \"Hello\\nWorld\"\n",
    "\n",
    "print(my_string)"
   ]
  },
  {
   "attachments": {},
   "cell_type": "markdown",
   "metadata": {},
   "source": [
    "`print()` is made for humans. Even though there's a `\\n` in the middle of the string, `print()` will *interpret* that symbol as its special meaning: a new line."
   ]
  },
  {
   "attachments": {},
   "cell_type": "markdown",
   "metadata": {},
   "source": [
    "We can also return the value of a variable by just writing the name of the variable in the last line of the cell. In this case, we will get the full value, without any interpretation."
   ]
  },
  {
   "cell_type": "code",
   "execution_count": 35,
   "metadata": {},
   "outputs": [
    {
     "data": {
      "text/plain": [
       "'Hello\\nWorld'"
      ]
     },
     "execution_count": 35,
     "metadata": {},
     "output_type": "execute_result"
    }
   ],
   "source": [
    "my_string = \"Hello\\nWorld\"\n",
    "\n",
    "my_string"
   ]
  },
  {
   "attachments": {},
   "cell_type": "markdown",
   "metadata": {},
   "source": [
    "## Comments\n",
    "\n",
    "Comments are lines that are not executed by Python. We can use them to explain what our code is doing, or to leave notes for other programmers (or for ourselves in the future).\n",
    "\n",
    "We can write comments by using the `#` symbol. Everything after the `#` symbol will be ignored by Python.\n",
    "\n",
    "```python\n",
    "# This is a comment, won't be executed by Python\n",
    "\n",
    "my_variable = 5 # This is also a comment, but the left side of the # will be executed\n",
    "```"
   ]
  },
  {
   "cell_type": "code",
   "execution_count": null,
   "metadata": {},
   "outputs": [],
   "source": [
    "# brief explanation of my code:\n",
    "# create a variable called my_string that contains 'abc'\n",
    "\n",
    "my_string = \"abc\""
   ]
  }
 ],
 "metadata": {
  "kernelspec": {
   "display_name": "pda1",
   "language": "python",
   "name": "python3"
  },
  "language_info": {
   "codemirror_mode": {
    "name": "ipython",
    "version": 3
   },
   "file_extension": ".py",
   "mimetype": "text/x-python",
   "name": "python",
   "nbconvert_exporter": "python",
   "pygments_lexer": "ipython3",
   "version": "3.9.16"
  },
  "orig_nbformat": 4
 },
 "nbformat": 4,
 "nbformat_minor": 2
}
